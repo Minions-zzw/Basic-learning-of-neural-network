{
 "cells": [
  {
   "cell_type": "code",
   "execution_count": null,
   "metadata": {},
   "outputs": [],
   "source": [
    "class HandWritten(object):\n",
    "    def __init__(self,training_image,training_lable,eta,batch_size,shuffle):\n",
    "        self.dataset = HandWrittenDataset(training_image,training_lable)\n",
    "        number = len(training_image)\n",
    "        self.split_9_1(number,batch_size) #把数据分为训练集和测试集  详细过程见下面的那个split函数\n",
    "        self.dataloader = tud.DataLoader(dataset, batch_size=batch_size, shuffle=shuffle)\n",
    "        self.model = Net()  #定义模型类\n",
    "        self.loss_fn = torch.nn.MSELoss(reduction = 'sum') #定义loss_fn，loss方程\n",
    "        self.optimizer = torch.optim.Adam(self.model.parameters(), lr = eta)#定义参数更新方式\n",
    "    def train(self): #开始训练\n",
    "        for e in range(NUM_EPOCHS): #每一个epochs\n",
    "            for i,(x,y) in enumerate (self.train_loader): #从dataloader中取出bitch数据进行训练\n",
    "#                 a = x[0].reshape(28,28) #显示图片\n",
    "#                 fig = plt.figure()\n",
    "#                 plotwindow = fig.add_subplot(111)\n",
    "#                 plt.imshow(a , cmap='gray')\n",
    "#                 plt.show()\n",
    "#                 print(y[0])\n",
    "                \n",
    "                y_pred = self.model.forward(x)  #前项传播\n",
    "                self.loss = self.loss_fn(y_pred,y) #计算loss\n",
    "                print(self.loss)\n",
    "                self.optimizer.zero_grad() #参数更新器重置为0\n",
    "                self.loss.backward()   # 反向传播\n",
    "                self.optimizer.step() #参数进行更新\n",
    "                \n",
    "            print(e,\":轮，loss = \",self.loss.item())\n",
    "            print(\"准确率为：\",self.test());\n",
    "    def test(self): #测试函数\n",
    "        total_correct = 0.0\n",
    "        for i, (x,y) in enumerate(self.test_loader):\n",
    "            y_pred = self.model.forward(x)  #前项传播\n",
    "            correct = self.correct_count(y,y_pred)\n",
    "            total_correct = total_correct+correct\n",
    "#             pdb.set_trace()\n",
    "        \n",
    "        return total_correct/self.test_number\n",
    "    def correct_count(self,y,y_pred): #测试函数\n",
    "        return sum(a[torch.argmax(b)] == 1 for a, b in zip(y,y_pred))\n",
    "    def split_9_1(self,n_train,batch_size):\n",
    "        split = n_train // 9   #整数除法，要把数据分成9:1的训练集和测试集\n",
    "        self.test_number = n_train - split  #测试集总数\n",
    "        indices = list(range(n_train))\n",
    "        train_sampler = tud.sampler.SubsetRandomSampler(indices[split:])  #设置采样器\n",
    "        test_sampler = tud.sampler.SubsetRandomSampler(indices[:split])\n",
    "        self.train_loader = tud.DataLoader(self.dataset, sampler=train_sampler,batch_size = batch_size, shuffle=False)#利用采样的方法进行提取\n",
    "        self.test_loader = tud.DataLoader(self.dataset, sampler=test_sampler, batch_size = batch_size, shuffle=False)"
   ]
  }
 ],
 "metadata": {
  "kernelspec": {
   "display_name": "Python 3",
   "language": "python",
   "name": "python3"
  },
  "language_info": {
   "codemirror_mode": {
    "name": "ipython",
    "version": 3
   },
   "file_extension": ".py",
   "mimetype": "text/x-python",
   "name": "python",
   "nbconvert_exporter": "python",
   "pygments_lexer": "ipython3",
   "version": "3.7.9"
  }
 },
 "nbformat": 4,
 "nbformat_minor": 4
}
